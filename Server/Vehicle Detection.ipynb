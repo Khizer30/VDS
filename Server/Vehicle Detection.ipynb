{
 "cells": [
  {
   "cell_type": "code",
   "id": "initial_id",
   "metadata": {
    "collapsed": true
   },
   "source": [
    "import numpy as np\n",
    "import matplotlib.pyplot as plt\n",
    "from PIL import Image\n",
    "from keras.api.utils import load_img, img_to_array\n",
    "from keras.api.models import Model, load_model\n",
    "from keras.api.applications.mobilenet_v2 import preprocess_input\n",
    "from numpy import ndarray, dtype, float32\n",
    "from typing import Any, Dict, List, TypeAlias\n",
    "\n",
    "Array: TypeAlias = ndarray[Any, dtype[float32]]"
   ],
   "outputs": [],
   "execution_count": null
  },
  {
   "metadata": {},
   "cell_type": "code",
   "source": "model: Model = load_model(\"models/Vehicle Colour.keras\")",
   "id": "31a2623f849df80a",
   "outputs": [],
   "execution_count": null
  },
  {
   "metadata": {},
   "cell_type": "code",
   "source": "colours: Dict[int, str] = { 0: \"Black\", 1: \"Silver\", 2: \"White\" }",
   "id": "506c9cc22340a9f0",
   "outputs": [],
   "execution_count": null
  },
  {
   "metadata": {},
   "cell_type": "code",
   "source": [
    "height: int = 224\n",
    "width: int = 224"
   ],
   "id": "d5344cb817f6dd6a",
   "outputs": [],
   "execution_count": null
  },
  {
   "metadata": {},
   "cell_type": "code",
   "source": [
    "temp: List[Array] = []\n",
    "\n",
    "for i in range(1, 10):\n",
    "    image: Image = load_img(f\"/content/drive/MyDrive/Datasets/Localized Vehicles/{i}.png\", target_size = (224, 224))\n",
    "    arr: Array = img_to_array(image)\n",
    "    temp.append(arr)\n",
    "\n",
    "images: Array = np.array(temp)"
   ],
   "id": "54b87ae03b017653",
   "outputs": [],
   "execution_count": null
  },
  {
   "metadata": {},
   "cell_type": "code",
   "source": [
    "input_arr = preprocess_input(images)\n",
    "predictions = model.predict(input_arr)"
   ],
   "id": "85ab474388443e77",
   "outputs": [],
   "execution_count": null
  },
  {
   "metadata": {},
   "cell_type": "code",
   "source": [
    "plt.figure(figsize = (12, 5))\n",
    "plt.subplots_adjust(wspace = 0.5, hspace = 0.5)\n",
    "\n",
    "for i in range(images.shape[0]):\n",
    "    plt.subplot(3, 3, i + 1)\n",
    "    plt.imshow(images[i] / 255)\n",
    "    plt.title(colours[np.argmax(predictions[i])])"
   ],
   "id": "36aabd5318f8e1c6",
   "outputs": [],
   "execution_count": null
  }
 ],
 "metadata": {
  "kernelspec": {
   "display_name": "Python 3",
   "language": "python",
   "name": "python3"
  },
  "language_info": {
   "codemirror_mode": {
    "name": "ipython",
    "version": 2
   },
   "file_extension": ".py",
   "mimetype": "text/x-python",
   "name": "python",
   "nbconvert_exporter": "python",
   "pygments_lexer": "ipython2",
   "version": "2.7.6"
  }
 },
 "nbformat": 4,
 "nbformat_minor": 5
}
