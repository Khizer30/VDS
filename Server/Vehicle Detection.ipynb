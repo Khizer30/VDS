{
 "cells": [
  {
   "cell_type": "code",
   "id": "initial_id",
   "metadata": {},
   "source": [
    "import numpy as np\n",
    "import matplotlib.pyplot as plt\n",
    "from PIL import Image\n",
    "from random import randint\n",
    "from keras.api.utils import load_img, img_to_array\n",
    "from keras.api.models import Model, load_model\n",
    "from keras.api.applications.mobilenet_v2 import preprocess_input\n",
    "from numpy import ndarray, dtype, float32\n",
    "from typing import Any, Dict, List, TypeAlias\n",
    "\n",
    "Array: TypeAlias = ndarray[Any, dtype[float32]]"
   ],
   "outputs": [],
   "execution_count": null
  },
  {
   "cell_type": "code",
   "id": "31a2623f849df80a",
   "metadata": {},
   "source": [
    "first_model: Model = load_model(\"models/Vehicle Colour.keras\")"
   ],
   "outputs": [],
   "execution_count": null
  },
  {
   "cell_type": "code",
   "id": "5b0f1a12d64fddb0",
   "metadata": {},
   "source": [
    "second_model: Model = load_model(\"models/Vehicle Make & Model.keras\")"
   ],
   "outputs": [],
   "execution_count": null
  },
  {
   "cell_type": "code",
   "id": "d5344cb817f6dd6a",
   "metadata": {},
   "source": [
    "colours: Dict[int, str] = { 0: \"Black\", 1: \"Silver\", 2: \"White\" }\n",
    "makes: Dict[int, str] = { 0: \"Honda City\", 1: \"Suzuki Alto\", 2: \"Suzuki Mehran\", 3: \"Toyota Corolla\" }\n",
    "\n",
    "height: int = 224\n",
    "width: int = 224"
   ],
   "outputs": [],
   "execution_count": null
  },
  {
   "cell_type": "code",
   "id": "54b87ae03b017653",
   "metadata": {},
   "source": [
    "temp: List[Array] = []\n",
    "\n",
    "for _ in range(1, 10):\n",
    "    i: int = randint(1, 150)\n",
    "    image: Image = load_img(f\"data/Vehicles/Image ({i}).png\", target_size = (224, 224))\n",
    "    arr: Array = img_to_array(image)\n",
    "    temp.append(arr)\n",
    "\n",
    "images: Array = np.array(temp)"
   ],
   "outputs": [],
   "execution_count": null
  },
  {
   "cell_type": "code",
   "id": "85ab474388443e77",
   "metadata": {},
   "source": [
    "input_arr = preprocess_input(images)\n",
    "colour_predictions = first_model.predict(input_arr)\n",
    "make_predictions = second_model.predict(input_arr)"
   ],
   "outputs": [],
   "execution_count": null
  },
  {
   "cell_type": "code",
   "id": "c437963ee188e3a0",
   "metadata": {},
   "source": [
    "images: Array = np.array(temp)"
   ],
   "outputs": [],
   "execution_count": null
  },
  {
   "cell_type": "code",
   "id": "36aabd5318f8e1c6",
   "metadata": {},
   "source": [
    "plt.figure(figsize = (12, 5))\n",
    "plt.subplots_adjust(wspace = 0.5, hspace = 0.5)\n",
    "\n",
    "for i in range(images.shape[0]):\n",
    "    colour: str = colours[np.argmax(colour_predictions[i])]\n",
    "    make: str = makes[np.argmax(make_predictions[i])]\n",
    "\n",
    "    plt.subplot(3, 3, i + 1)\n",
    "    plt.imshow(images[i] / 255)\n",
    "    plt.title(f\"{colour} {make}\")"
   ],
   "outputs": [],
   "execution_count": null
  },
  {
   "cell_type": "markdown",
   "id": "d33cd2723484023f",
   "metadata": {},
   "source": [
    "### Practice"
   ]
  },
  {
   "cell_type": "code",
   "id": "a6b525f7fb98bd22",
   "metadata": {},
   "source": [
    "# Vehicles Folder\n",
    "i: int = 1\n",
    "image: Image = load_img(f\"data/Vehicles/Image ({i}).png\", target_size = (224, 224))\n",
    "\n",
    "# Localized Vehicles\n",
    "# image: Image = load_img(f\"Localized Vehicles/1.png\", target_size = (224, 224))\n",
    "\n",
    "arr: Array = np.array([img_to_array(image)])\n",
    "plt.imshow(arr[0] / 255)\n",
    "\n",
    "input_arr = preprocess_input(arr)\n",
    "colour_predictions = first_model.predict(input_arr)\n",
    "make_predictions = second_model.predict(input_arr)\n",
    "\n",
    "colour: str = colours[np.argmax(colour_predictions[0])]\n",
    "make: str = makes[np.argmax(make_predictions[0])]\n",
    "\n",
    "print(f\"Colour: {colour} {colour_predictions[0]}\")\n",
    "print(f\"Make & Model: {make} {make_predictions[0]}\")"
   ],
   "outputs": [],
   "execution_count": null
  }
 ],
 "metadata": {
  "kernelspec": {
   "display_name": "Python 3 (ipykernel)",
   "language": "python",
   "name": "python3"
  },
  "language_info": {
   "codemirror_mode": {
    "name": "ipython",
    "version": 3
   },
   "file_extension": ".py",
   "mimetype": "text/x-python",
   "name": "python",
   "nbconvert_exporter": "python",
   "pygments_lexer": "ipython3",
   "version": "3.12.8"
  }
 },
 "nbformat": 4,
 "nbformat_minor": 5
}
